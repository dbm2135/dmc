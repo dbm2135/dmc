{
 "cells": [
  {
   "cell_type": "code",
   "execution_count": 3,
   "metadata": {
    "collapsed": false
   },
   "outputs": [
    {
     "name": "stdout",
     "output_type": "stream",
     "text": [
      "4\n"
     ]
    }
   ],
   "source": [
    "def addFunction(inputNumber):\n",
    "    result = inputNumber + 2\n",
    "    return result\n",
    "print addFunction(2)"
   ]
  },
  {
   "cell_type": "code",
   "execution_count": 4,
   "metadata": {
    "collapsed": false
   },
   "outputs": [
    {
     "name": "stdout",
     "output_type": "stream",
     "text": [
      "4\n"
     ]
    }
   ],
   "source": [
    "var = 2\n",
    "print addFunction(var)"
   ]
  },
  {
   "cell_type": "code",
   "execution_count": 7,
   "metadata": {
    "collapsed": false
   },
   "outputs": [
    {
     "name": "stdout",
     "output_type": "stream",
     "text": [
      "Number must be positive!\n",
      "4\n"
     ]
    }
   ],
   "source": [
    "def addFunction(inputNumber):\n",
    "    if inputNumber < 0:\n",
    "        return 'Number must be positive!'\n",
    "    result = inputNumber + 2\n",
    "    return result\n",
    "print addFunction(-2)\n",
    "print addFunction(2)"
   ]
  },
  {
   "cell_type": "code",
   "execution_count": 8,
   "metadata": {
    "collapsed": false
   },
   "outputs": [
    {
     "name": "stdout",
     "output_type": "stream",
     "text": [
      "5\n"
     ]
    }
   ],
   "source": [
    "def addTwoNumbers(inputNumber1, inputNumber2):\n",
    "    result = inputNumber1 + inputNumber2\n",
    "    return result\n",
    "\n",
    "print addTwoNumbers(2, 3)"
   ]
  },
  {
   "cell_type": "code",
   "execution_count": 9,
   "metadata": {
    "collapsed": false
   },
   "outputs": [
    {
     "name": "stdout",
     "output_type": "stream",
     "text": [
      "addition:  5\n",
      "multiplication:  6\n"
     ]
    }
   ],
   "source": [
    "def twoNumbers(inputNumber1, inputNumber2):\n",
    "    addition = inputNumber1 + inputNumber2\n",
    "    multiplication = inputNumber1 * inputNumber2\n",
    "    return [addition, multiplication]\n",
    "\n",
    "result = twoNumbers(2, 3)\n",
    "print 'addition: ', result[0]\n",
    "print 'multiplication: ', result[1]"
   ]
  },
  {
   "cell_type": "code",
   "execution_count": 10,
   "metadata": {
    "collapsed": false
   },
   "outputs": [
    {
     "name": "stdout",
     "output_type": "stream",
     "text": [
      "addition:  5\n",
      "multiplication:  6\n"
     ]
    }
   ],
   "source": [
    "add, mult = twoNumbers(2, 3)\n",
    "print 'addition: ', str(add)\n",
    "print 'multiplication: ', str(mult)"
   ]
  },
  {
   "cell_type": "code",
   "execution_count": 13,
   "metadata": {
    "collapsed": false
   },
   "outputs": [
    {
     "name": "stdout",
     "output_type": "stream",
     "text": [
      "2\n"
     ]
    }
   ],
   "source": [
    "class CounterClass:\n",
    "\n",
    "    count = 0\n",
    "\n",
    "    def addToCounter(self, inputValue):\n",
    "        self.count += inputValue\n",
    "\n",
    "    def getCount(self):\n",
    "        return self.count\n",
    "myCounter = CounterClass()\n",
    "myCounter.addToCounter(2)\n",
    "print myCounter.getCount()"
   ]
  },
  {
   "cell_type": "code",
   "execution_count": 14,
   "metadata": {
    "collapsed": false
   },
   "outputs": [
    {
     "data": {
      "text/plain": [
       "2"
      ]
     },
     "execution_count": 14,
     "metadata": {},
     "output_type": "execute_result"
    }
   ],
   "source": [
    "myCounter.count"
   ]
  },
  {
   "cell_type": "code",
   "execution_count": 16,
   "metadata": {
    "collapsed": false
   },
   "outputs": [
    {
     "name": "stdout",
     "output_type": "stream",
     "text": [
      "12\n"
     ]
    }
   ],
   "source": [
    "class CounterClass:\n",
    "    \n",
    "    count = 0\n",
    "\n",
    "    def __init__(self, inputValue):\n",
    "        self.count = inputValue\n",
    "\n",
    "    def addToCounter(self, inputValue):\n",
    "        self.count += inputValue\n",
    "\n",
    "    def getCount(self):\n",
    "        return self.count\n",
    "    \n",
    "myNewCounter = CounterClass(10)\n",
    "myNewCounter.addToCounter(2)\n",
    "\n",
    "#this should now return 12\n",
    "print myNewCounter.getCount()\n",
    "myNewCounter = CounterClass(10)\n",
    "myNewCounter.addToCounter(2)\n",
    "\n",
    "#this should now return 12\n",
    "print myNewCounter.getCount()"
   ]
  }
 ],
 "metadata": {
  "anaconda-cloud": {},
  "kernelspec": {
   "display_name": "Python [default]",
   "language": "python",
   "name": "python2"
  },
  "language_info": {
   "codemirror_mode": {
    "name": "ipython",
    "version": 2
   },
   "file_extension": ".py",
   "mimetype": "text/x-python",
   "name": "python",
   "nbconvert_exporter": "python",
   "pygments_lexer": "ipython2",
   "version": "2.7.12"
  }
 },
 "nbformat": 4,
 "nbformat_minor": 1
}
