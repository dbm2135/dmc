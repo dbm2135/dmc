{
 "cells": [
  {
   "cell_type": "markdown",
   "metadata": {},
   "source": [
    "## Lab 5.3 - CNN for cats and dogs\n",
    "\n",
    "Now that we have imported our custom image data, formatted them as proper feature and target numpy arrays, and split them between individual training and test data sets, we can use Keras to create another Convolutional Neural Network (CNN) and train it to classify images of cats and dogs (the holy grail of Arificial Intelligence!)\n",
    "\n",
    "First, let's use the pickle library to bring in the data sets we generated in the previous part of the lab:"
   ]
  },
  {
   "cell_type": "code",
   "execution_count": 2,
   "metadata": {
    "collapsed": false
   },
   "outputs": [
    {
     "name": "stderr",
     "output_type": "stream",
     "text": [
      "Using Theano backend.\n"
     ]
    },
    {
     "name": "stdout",
     "output_type": "stream",
     "text": [
      "using ordering: tf\n",
      "('Training set', (14000, 64, 64), (14000, 1))\n",
      "('Test set', (6000, 64, 64), (6000, 1))\n"
     ]
    }
   ],
   "source": [
    "import pickle\n",
    "from keras.models import Sequential\n",
    "from keras.layers import Dense, Dropout, Activation, Flatten\n",
    "from keras.layers import Convolution2D, MaxPooling2D, ZeroPadding2D\n",
    "from keras.utils import np_utils\n",
    "from keras.optimizers import SGD\n",
    "from keras import backend as K\n",
    "\n",
    "K.set_image_dim_ordering('tf')\n",
    "print \"using ordering:\", K.image_dim_ordering()\n",
    "\n",
    "pickle_file = '-catsdogs.pickle'\n",
    "\n",
    "with open(pickle_file, 'rb') as f:\n",
    "    save = pickle.load(f)\n",
    "    X_train_load = save['X_train']\n",
    "    y_train_load = save['y_train']\n",
    "    X_test_load = save['X_test']\n",
    "    y_test_load = save['y_test']\n",
    "    del save  # hint to help gc free up memory\n",
    "    print('Training set', X_train_load.shape, y_train_load.shape)\n",
    "    print('Test set', X_test_load.shape, y_test_load.shape)"
   ]
  },
  {
   "cell_type": "markdown",
   "metadata": {},
   "source": [
    "Now that the data is imported, go through and implement the CNN from scratch based on the one developed in Lab 5.1. \n",
    "\n",
    "Experiment with different hyper-parameters as well as different architectures for your network. If you're not getting the results you want try a deeper network by adding more convolutional or fully connected layers. Remember that with CNN's, all convolutional layers should go in the beginning, and the fully connected layers should go at the end. You can also try to make the network 'wider' by adding more depth to each convolutional layer or more neurons to the fully connected layers. If you are noticing problems with over-fitting you can experiment with larger dropout rates or other regularlization strategies.\n",
    "\n",
    "You can also experiment with filters of a larger size in the convolutional layers. Larger filters will capture more information in the image at the expense of longer training times. For more information about the tradeoffs between depth and width in a CNN, you can read this paper: \n",
    "\n",
    "https://arxiv.org/pdf/1409.1556.pdf\n",
    "\n",
    "Known as the 'VGG paper', this research is currently one of the state-of-the-art benchmarks for image recognition using CNN's. The authors' hypothesis for the paper was that depth in a CNN (total number of layers) is much more important than the size of the filters or the depth within each convolutional layer. Thus they used very small filter sizes (only 3x3) but focused on making the networks as deep as possible. If you are still getting poor results and want to develop a deeper network, a good place to start would be to try to implement one of the networks from the 'VGG paper'. The deepest ones will probably take too long to train without having a dedicated graphics card, but you should be able to train one of the medium ones (for example network 'B') using just the virtual machine developed in the first lab.\n",
    "\n",
    "Just like when we initially loaded the data, with large networks you again run the risk of overloading your RAM memory, which will either throw an error during model compilation or training, or cause your Python kernel to crash. If you run into these issues, try reducing the complexity of your network (either using less layers, or reducing the depth of each layer) or using a smaller mini-batch size. If you are using the virtual machine, your RAM will be quite limited so you will not be able to train very deep or complex networks. This is ok for the demonstration purposes of the class, but for your own work you may want to use a native installation of Python and the related libraries so that you can use the full potential of your computer.\n",
    "\n",
    "Ofcourse classifying dogs and cats is a much more difficult problem than digit classification, so you should not expect to reach the same level of performance we did before. With an average sized network training over night on the virtual machine, you should be able to get at least 80% accuracy on the test dataset. Once you get a result you like, submit your work on this file as a pull request back to the main project."
   ]
  },
  {
   "cell_type": "code",
   "execution_count": 3,
   "metadata": {
    "collapsed": false
   },
   "outputs": [
    {
     "name": "stdout",
     "output_type": "stream",
     "text": [
      "(14000, 64, 64)\n",
      "(14000, 64, 64)\n",
      "64 64\n",
      "(64, 64)\n",
      "(14000, 1)\n",
      "(64, 64, 1)\n",
      "(14000, 2)\n",
      "(14000, 64, 64, 1)\n"
     ]
    },
    {
     "data": {
      "image/png": "[encoded data removed]",
      "text/plain": [
       "<matplotlib.figure.Figure at 0x7f5c3529ce90>"
      ]
     },
     "metadata": {},
     "output_type": "display_data"
    }
   ],
   "source": [
    "print X_train_load.shape\n",
    "\n",
    "# number of classes\n",
    "num_classes = 2\n",
    "# image dimensions\n",
    "img_rows, img_cols = X_train_load.shape[1],  X_train_load.shape[2]\n",
    "print X_train_load.shape\n",
    "print img_rows, img_cols\n",
    "\n",
    "if K.image_dim_ordering() == 'th':\n",
    "    X_train = X_train_load.reshape(X_train_load.shape[0], 1, img_rows, img_cols)\n",
    "    X_test = X_test_load.reshape(X_test_load.shape[0], 1, img_rows, img_cols)\n",
    "    input_shape = (1, img_rows, img_cols)\n",
    "else:\n",
    "    X_train = X_train_load.reshape(X_train_load.shape[0], img_rows, img_cols, 1)\n",
    "    X_test = X_test_load.reshape(X_test_load.shape[0], img_rows, img_cols, 1)\n",
    "    input_shape = (img_rows, img_cols, 1)\n",
    "    \n",
    "Y_train = np_utils.to_categorical(y_train_load, num_classes)\n",
    "Y_test = np_utils.to_categorical(y_test_load, num_classes)\n",
    "\n",
    "%matplotlib inline\n",
    "from matplotlib.pyplot import imshow\n",
    "import matplotlib.pyplot as plt\n",
    "\n",
    "img_num = 0\n",
    "\n",
    "if K.image_dim_ordering() == 'th':\n",
    "    img = X_train[img_num][0,:,:]\n",
    "else:\n",
    "    img = X_train[img_num][:,:,0]\n",
    "\n",
    "print img.shape\n",
    "print y_train_load.shape\n",
    "imshow(img, cmap = plt.get_cmap('gray'), vmin = 0, vmax = 1,  interpolation='nearest')\n",
    "\n",
    "\n",
    "print input_shape\n",
    "print Y_train.shape\n",
    "print X_train.shape"
   ]
  },
  {
   "cell_type": "code",
   "execution_count": 4,
   "metadata": {
    "collapsed": false
   },
   "outputs": [
    {
     "name": "stdout",
     "output_type": "stream",
     "text": [
      "(64, 64, 1)\n",
      "using ordering: tf\n"
     ]
    }
   ],
   "source": [
    "## implement your CNN starting here.\n",
    "# model hyperparameters\n",
    "batch_size = 128\n",
    "nb_epoch = 30\n",
    "\n",
    "# network architecture\n",
    "patch_size_1 = 4\n",
    "patch_size_2 = 4\n",
    "patch_size_3 = 4\n",
    "patch_size_4 = 4\n",
    "\n",
    "pool_size = 2\n",
    "\n",
    "num_hidden_1 = 1000\n",
    "num_hidden_2 = 1000\n",
    "num_hidden_3 = 1000\n",
    "\n",
    "dropout = 0.5\n",
    "\n",
    "print input_shape\n",
    "\n",
    "print \"using ordering:\", K.image_dim_ordering()\n",
    "\n",
    "model = Sequential()\n",
    "\n",
    "model.add(Convolution2D(64, 3, 3, border_mode ='valid',input_shape=input_shape))  \n",
    "model.add(Activation('relu'))\n",
    "model.add(MaxPooling2D(pool_size=(2,2)))\n",
    "\n",
    "model.add(Convolution2D(128, 3, 3,  border_mode ='valid'))\n",
    "model.add(Activation('relu'))\n",
    "model.add(MaxPooling2D(pool_size=(2,2)))\n",
    "\n",
    "model.add(Convolution2D(256, 3, 3,  border_mode ='valid'))\n",
    "model.add(Activation('relu'))\n",
    "\n",
    "model.add(MaxPooling2D(pool_size=(2,2)))\n",
    "\n",
    "model.add(Flatten())\n",
    "\n",
    "model.add(Dense(num_hidden_1))\n",
    "model.add(Activation('relu'))\n",
    "model.add(Dropout(dropout))\n",
    "          \n",
    "model.add(Dense(num_hidden_2))\n",
    "model.add(Activation('relu'))\n",
    "model.add(Dropout(dropout))\n",
    "          \n",
    "model.add(Dense(num_hidden_3))\n",
    "model.add(Activation('relu'))\n",
    "model.add(Dropout(dropout))\n",
    "\n",
    "model.add(Dense(num_classes))\n",
    "\n",
    "# apply the 'softmax' activation to the final layer to convert the output to \n",
    "# a probability distribution\n",
    "model.add(Activation('softmax'))"
   ]
  },
  {
   "cell_type": "code",
   "execution_count": 5,
   "metadata": {
    "collapsed": false
   },
   "outputs": [
    {
     "name": "stdout",
     "output_type": "stream",
     "text": [
      "(14000, 64, 64, 1)\n",
      "(14000, 2)\n",
      "(6000, 64, 64, 1)\n",
      "(6000, 2)\n",
      "using ordering: tf\n"
     ]
    }
   ],
   "source": [
    "model.compile(loss='categorical_crossentropy',\n",
    "              optimizer='adadelta',\n",
    "              metrics=['accuracy'])\n",
    "\n",
    "print X_train.shape\n",
    "print Y_train.shape\n",
    "print X_test.shape\n",
    "print Y_test.shape\n",
    "\n",
    "print \"using ordering:\", K.image_dim_ordering()"
   ]
  },
  {
   "cell_type": "code",
   "execution_count": 6,
   "metadata": {
    "collapsed": false
   },
   "outputs": [
    {
     "name": "stdout",
     "output_type": "stream",
     "text": [
      "Train on 14000 samples, validate on 6000 samples\n",
      "Epoch 1/30\n",
      "14000/14000 [==============================] - 603s - loss: 0.6930 - acc: 0.5052 - val_loss: 0.6910 - val_acc: 0.5145\n",
      "Epoch 2/30\n",
      "14000/14000 [==============================] - 28961s - loss: 0.6894 - acc: 0.5381 - val_loss: 0.6750 - val_acc: 0.5598\n",
      "Epoch 3/30\n",
      "14000/14000 [==============================] - 607s - loss: 0.6705 - acc: 0.5850 - val_loss: 0.6553 - val_acc: 0.6173\n",
      "Epoch 4/30\n",
      "14000/14000 [==============================] - 593s - loss: 0.6558 - acc: 0.6166 - val_loss: 0.6896 - val_acc: 0.5773\n",
      "Epoch 5/30\n",
      "14000/14000 [==============================] - 642s - loss: 0.6449 - acc: 0.6329 - val_loss: 0.6864 - val_acc: 0.5905\n",
      "Epoch 6/30\n",
      "14000/14000 [==============================] - 558s - loss: 0.6317 - acc: 0.6437 - val_loss: 0.6302 - val_acc: 0.6445\n",
      "Epoch 7/30\n",
      "14000/14000 [==============================] - 663s - loss: 0.6068 - acc: 0.6772 - val_loss: 0.5764 - val_acc: 0.7018\n",
      "Epoch 8/30\n",
      "14000/14000 [==============================] - 631s - loss: 0.5611 - acc: 0.7144 - val_loss: 0.5366 - val_acc: 0.7330\n",
      "Epoch 9/30\n",
      "14000/14000 [==============================] - 595s - loss: 0.5233 - acc: 0.7441 - val_loss: 0.5243 - val_acc: 0.7482\n",
      "Epoch 10/30\n",
      "14000/14000 [==============================] - 651s - loss: 0.4890 - acc: 0.7669 - val_loss: 0.5577 - val_acc: 0.7150\n",
      "Epoch 11/30\n",
      "14000/14000 [==============================] - 649s - loss: 0.4566 - acc: 0.7848 - val_loss: 0.4634 - val_acc: 0.7783\n",
      "Epoch 12/30\n",
      "14000/14000 [==============================] - 640s - loss: 0.4229 - acc: 0.8083 - val_loss: 0.5352 - val_acc: 0.7225\n",
      "Epoch 13/30\n",
      "14000/14000 [==============================] - 804s - loss: 0.3913 - acc: 0.8256 - val_loss: 0.4157 - val_acc: 0.8053\n",
      "Epoch 14/30\n",
      "14000/14000 [==============================] - 573s - loss: 0.3589 - acc: 0.8409 - val_loss: 0.4926 - val_acc: 0.7735\n",
      "Epoch 15/30\n",
      "14000/14000 [==============================] - 736s - loss: 0.3294 - acc: 0.8580 - val_loss: 0.4040 - val_acc: 0.8203\n",
      "Epoch 16/30\n",
      "14000/14000 [==============================] - 843s - loss: 0.2853 - acc: 0.8816 - val_loss: 0.4169 - val_acc: 0.8258\n",
      "Epoch 17/30\n",
      "14000/14000 [==============================] - 688s - loss: 0.2451 - acc: 0.8969 - val_loss: 0.4619 - val_acc: 0.8077\n",
      "Epoch 18/30\n",
      "14000/14000 [==============================] - 684s - loss: 0.2028 - acc: 0.9188 - val_loss: 0.4844 - val_acc: 0.8133\n",
      "Epoch 19/30\n",
      "14000/14000 [==============================] - 683s - loss: 0.1648 - acc: 0.9359 - val_loss: 0.5122 - val_acc: 0.8175\n",
      "Epoch 20/30\n",
      "14000/14000 [==============================] - 655s - loss: 0.1220 - acc: 0.9559 - val_loss: 0.5265 - val_acc: 0.8218\n",
      "Epoch 21/30\n",
      "14000/14000 [==============================] - 846s - loss: 0.0826 - acc: 0.9698 - val_loss: 0.5730 - val_acc: 0.8338\n",
      "Epoch 22/30\n",
      "14000/14000 [==============================] - 943s - loss: 0.0613 - acc: 0.9787 - val_loss: 0.6420 - val_acc: 0.8258\n",
      "Epoch 23/30\n",
      "14000/14000 [==============================] - 787s - loss: 0.0391 - acc: 0.9871 - val_loss: 0.7100 - val_acc: 0.8322\n",
      "Epoch 24/30\n",
      "14000/14000 [==============================] - 740s - loss: 0.0264 - acc: 0.9909 - val_loss: 0.9331 - val_acc: 0.8103\n",
      "Epoch 25/30\n",
      "14000/14000 [==============================] - 634s - loss: 0.0241 - acc: 0.9925 - val_loss: 0.9344 - val_acc: 0.8253\n",
      "Epoch 26/30\n",
      "14000/14000 [==============================] - 868s - loss: 0.0194 - acc: 0.9934 - val_loss: 0.9032 - val_acc: 0.8250\n",
      "Epoch 27/30\n",
      "14000/14000 [==============================] - 1066s - loss: 0.0193 - acc: 0.9937 - val_loss: 0.9151 - val_acc: 0.8312\n",
      "Epoch 28/30\n",
      "14000/14000 [==============================] - 774s - loss: 0.0144 - acc: 0.9948 - val_loss: 0.9235 - val_acc: 0.8320\n",
      "Epoch 29/30\n",
      "14000/14000 [==============================] - 707s - loss: 0.0112 - acc: 0.9964 - val_loss: 1.1158 - val_acc: 0.8307\n",
      "Epoch 30/30\n",
      "14000/14000 [==============================] - 706s - loss: 0.0124 - acc: 0.9960 - val_loss: 1.0981 - val_acc: 0.8280\n"
     ]
    },
    {
     "data": {
      "text/plain": [
       "<keras.callbacks.History at 0x7f5c0cf77c10>"
      ]
     },
     "execution_count": 6,
     "metadata": {},
     "output_type": "execute_result"
    }
   ],
   "source": [
    "model.fit(X_train, Y_train, batch_size=batch_size, nb_epoch=nb_epoch,\n",
    "          verbose=1, validation_data=(X_test, Y_test))"
   ]
  },
  {
   "cell_type": "code",
   "execution_count": 7,
   "metadata": {
    "collapsed": false
   },
   "outputs": [
    {
     "name": "stdout",
     "output_type": "stream",
     "text": [
      "Test score: 1.09805180768\n",
      "Test accuracy: 82.80%\n"
     ]
    }
   ],
   "source": [
    "score = model.evaluate(X_test, Y_test, verbose=0)\n",
    "\n",
    "print 'Test score:', score[0]\n",
    "print 'Test accuracy: {:.2%}'.format(score[1])"
   ]
  }
 ],
 "metadata": {
  "anaconda-cloud": {},
  "kernelspec": {
   "display_name": "Python [default]",
   "language": "python",
   "name": "python2"
  },
  "language_info": {
   "codemirror_mode": {
    "name": "ipython",
    "version": 2
   },
   "file_extension": ".py",
   "mimetype": "text/x-python",
   "name": "python",
   "nbconvert_exporter": "python",
   "pygments_lexer": "ipython2",
   "version": "2.7.12"
  }
 },
 "nbformat": 4,
 "nbformat_minor": 1
}
